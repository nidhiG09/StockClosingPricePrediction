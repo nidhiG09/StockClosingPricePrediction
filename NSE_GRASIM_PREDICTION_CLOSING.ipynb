{
  "cells": [
    {
      "cell_type": "markdown",
      "metadata": {
        "id": "3b1RIG0ISG7M"
      },
      "source": [
        "Stock price prediction using LTSM RNN. \n",
        "\n",
        "Dataset : https://www.nseindia.com/get-quotes/equity?symbol=GRASIM\n",
        "\n",
        "Aggregated data file (NSE_GRASIM.CSV) : https://drive.google.com/file/d/1LwV-mxmGGgHyMSkZqMkir5k13JCX_OcX/view?usp=sharing\n",
        "\n",
        "Tutorial : https://www.section.io/engineering-education/stock-price-prediction-using-python/"
      ]
    },
    {
      "cell_type": "markdown",
      "metadata": {
        "id": "X275rBHBTFJX"
      },
      "source": [
        "Python imports needed to run the code\n",
        "\n",
        "Numpy - Numerical operations on the data\n",
        "Pandas - To work on the dataset as a dataframe\n",
        "matplotlib - For data visualization\n",
        "sklearn - for data scaling\n",
        "keras - to build our machine learning model"
      ]
    },
    {
      "cell_type": "code",
      "execution_count": null,
      "metadata": {
        "id": "fGcvgJmOR7bL"
      },
      "outputs": [],
      "source": [
        "import pandas as pd\n",
        "import numpy as np\n",
        "import matplotlib.pyplot as plt\n",
        "from sklearn.preprocessing import MinMaxScaler\n",
        "from keras.models import Sequential, load_model\n",
        "from keras.layers import LSTM, Dense, Dropout"
      ]
    },
    {
      "cell_type": "markdown",
      "metadata": {
        "id": "7_WvXjaBTnGF"
      },
      "source": [
        "Since google colab is hosted environment we have to upload the dataset from our local machine using the below code.\n",
        "\n",
        "The data file name is NSE_GRASIM.CSV\n",
        "Upload the above file."
      ]
    },
    {
      "cell_type": "code",
      "execution_count": null,
      "metadata": {
        "colab": {
          "base_uri": "https://localhost:8080/",
          "height": 74,
          "resources": {
            "http://localhost:8080/nbextensions/google.colab/files.js": {
              "data": "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",
              "headers": [
                [
                  "content-type",
                  "application/javascript"
                ]
              ],
              "ok": true,
              "status": 200,
              "status_text": ""
            }
          }
        },
        "id": "FdhWxmeiTinN",
        "outputId": "3c7084be-60b4-476b-eb87-92e60d7b8b17"
      },
      "outputs": [
        {
          "output_type": "display_data",
          "data": {
            "text/plain": [
              "<IPython.core.display.HTML object>"
            ],
            "text/html": [
              "\n",
              "     <input type=\"file\" id=\"files-0154b44b-60f8-42d5-ba6a-190908d6c321\" name=\"files[]\" multiple disabled\n",
              "        style=\"border:none\" />\n",
              "     <output id=\"result-0154b44b-60f8-42d5-ba6a-190908d6c321\">\n",
              "      Upload widget is only available when the cell has been executed in the\n",
              "      current browser session. Please rerun this cell to enable.\n",
              "      </output>\n",
              "      <script src=\"/nbextensions/google.colab/files.js\"></script> "
            ]
          },
          "metadata": {}
        },
        {
          "output_type": "stream",
          "name": "stdout",
          "text": [
            "Saving NSE_RELIANCE.csv to NSE_RELIANCE (2).csv\n"
          ]
        }
      ],
      "source": [
        "from google.colab import files\n",
        "dataset = files.upload()"
      ]
    },
    {
      "cell_type": "markdown",
      "metadata": {
        "id": "C4kRVMnoUAg3"
      },
      "source": [
        "Now we will load this file into a pandas dataframe. Dataframe helps us to transform the data according to our requirements. "
      ]
    },
    {
      "cell_type": "code",
      "execution_count": null,
      "metadata": {
        "id": "ox4NjY3uUfYD"
      },
      "outputs": [],
      "source": [
        "df = pd.read_csv('NSE_RELIANCE.csv')"
      ]
    },
    {
      "cell_type": "markdown",
      "metadata": {
        "id": "BBSqgfXEYeZ6"
      },
      "source": [
        "df.shape will give us the shape (size) of the dataset. here (1239,14) denotes 1239 rows and 14 columns."
      ]
    },
    {
      "cell_type": "code",
      "execution_count": null,
      "metadata": {
        "colab": {
          "base_uri": "https://localhost:8080/"
        },
        "id": "oP0nj0E9YaL2",
        "outputId": "15921492-be04-4b2d-db39-b2babd0e8f65"
      },
      "outputs": [
        {
          "output_type": "execute_result",
          "data": {
            "text/plain": [
              "(1390, 14)"
            ]
          },
          "metadata": {},
          "execution_count": 20
        }
      ],
      "source": [
        "df.shape"
      ]
    },
    {
      "cell_type": "code",
      "execution_count": null,
      "metadata": {
        "colab": {
          "base_uri": "https://localhost:8080/",
          "height": 206
        },
        "id": "2mxiigbXZM1l",
        "outputId": "8a3fd14d-8097-4be3-e200-af14e979df60"
      },
      "outputs": [
        {
          "output_type": "execute_result",
          "data": {
            "text/plain": [
              "       Date  series    OPEN   HIGH     LOW   PREV. CLOSE     ltp   close   \\\n",
              "0  29-Dec-17      EQ  926.50  932.3  918.50        924.20  920.10  921.05   \n",
              "1  28-Dec-17      EQ  925.25  934.4  919.10        923.75  922.60  924.20   \n",
              "2  27-Dec-17      EQ  933.00  937.5  919.00        929.80  923.25  923.75   \n",
              "3  26-Dec-17      EQ  924.85  938.9  918.15        920.40  936.00  929.80   \n",
              "4  22-Dec-17      EQ  914.65  922.4  909.30        912.95  919.80  920.40   \n",
              "\n",
              "    vwap   52W H   52W L     VOLUME         VALUE   No of trades   \n",
              "0  924.13  1664.9   779.1  5069838.0  4.685185e+09       102691.0  \n",
              "1  924.83  1664.9   779.1  7091515.0  6.558468e+09        92078.0  \n",
              "2  930.28  1664.9   779.1  4352384.0  4.048927e+09       107845.0  \n",
              "3  925.15  1664.9   779.1  5301456.0  4.904645e+09        88411.0  \n",
              "4  917.93  1664.9   779.1  4872675.0  4.472796e+09       107550.0  "
            ],
            "text/html": [
              "\n",
              "  <div id=\"df-7fe22ec1-a359-4920-b7b1-fa4845dab3b3\">\n",
              "    <div class=\"colab-df-container\">\n",
              "      <div>\n",
              "<style scoped>\n",
              "    .dataframe tbody tr th:only-of-type {\n",
              "        vertical-align: middle;\n",
              "    }\n",
              "\n",
              "    .dataframe tbody tr th {\n",
              "        vertical-align: top;\n",
              "    }\n",
              "\n",
              "    .dataframe thead th {\n",
              "        text-align: right;\n",
              "    }\n",
              "</style>\n",
              "<table border=\"1\" class=\"dataframe\">\n",
              "  <thead>\n",
              "    <tr style=\"text-align: right;\">\n",
              "      <th></th>\n",
              "      <th>Date</th>\n",
              "      <th>series</th>\n",
              "      <th>OPEN</th>\n",
              "      <th>HIGH</th>\n",
              "      <th>LOW</th>\n",
              "      <th>PREV. CLOSE</th>\n",
              "      <th>ltp</th>\n",
              "      <th>close</th>\n",
              "      <th>vwap</th>\n",
              "      <th>52W H</th>\n",
              "      <th>52W L</th>\n",
              "      <th>VOLUME</th>\n",
              "      <th>VALUE</th>\n",
              "      <th>No of trades</th>\n",
              "    </tr>\n",
              "  </thead>\n",
              "  <tbody>\n",
              "    <tr>\n",
              "      <th>0</th>\n",
              "      <td>29-Dec-17</td>\n",
              "      <td>EQ</td>\n",
              "      <td>926.50</td>\n",
              "      <td>932.3</td>\n",
              "      <td>918.50</td>\n",
              "      <td>924.20</td>\n",
              "      <td>920.10</td>\n",
              "      <td>921.05</td>\n",
              "      <td>924.13</td>\n",
              "      <td>1664.9</td>\n",
              "      <td>779.1</td>\n",
              "      <td>5069838.0</td>\n",
              "      <td>4.685185e+09</td>\n",
              "      <td>102691.0</td>\n",
              "    </tr>\n",
              "    <tr>\n",
              "      <th>1</th>\n",
              "      <td>28-Dec-17</td>\n",
              "      <td>EQ</td>\n",
              "      <td>925.25</td>\n",
              "      <td>934.4</td>\n",
              "      <td>919.10</td>\n",
              "      <td>923.75</td>\n",
              "      <td>922.60</td>\n",
              "      <td>924.20</td>\n",
              "      <td>924.83</td>\n",
              "      <td>1664.9</td>\n",
              "      <td>779.1</td>\n",
              "      <td>7091515.0</td>\n",
              "      <td>6.558468e+09</td>\n",
              "      <td>92078.0</td>\n",
              "    </tr>\n",
              "    <tr>\n",
              "      <th>2</th>\n",
              "      <td>27-Dec-17</td>\n",
              "      <td>EQ</td>\n",
              "      <td>933.00</td>\n",
              "      <td>937.5</td>\n",
              "      <td>919.00</td>\n",
              "      <td>929.80</td>\n",
              "      <td>923.25</td>\n",
              "      <td>923.75</td>\n",
              "      <td>930.28</td>\n",
              "      <td>1664.9</td>\n",
              "      <td>779.1</td>\n",
              "      <td>4352384.0</td>\n",
              "      <td>4.048927e+09</td>\n",
              "      <td>107845.0</td>\n",
              "    </tr>\n",
              "    <tr>\n",
              "      <th>3</th>\n",
              "      <td>26-Dec-17</td>\n",
              "      <td>EQ</td>\n",
              "      <td>924.85</td>\n",
              "      <td>938.9</td>\n",
              "      <td>918.15</td>\n",
              "      <td>920.40</td>\n",
              "      <td>936.00</td>\n",
              "      <td>929.80</td>\n",
              "      <td>925.15</td>\n",
              "      <td>1664.9</td>\n",
              "      <td>779.1</td>\n",
              "      <td>5301456.0</td>\n",
              "      <td>4.904645e+09</td>\n",
              "      <td>88411.0</td>\n",
              "    </tr>\n",
              "    <tr>\n",
              "      <th>4</th>\n",
              "      <td>22-Dec-17</td>\n",
              "      <td>EQ</td>\n",
              "      <td>914.65</td>\n",
              "      <td>922.4</td>\n",
              "      <td>909.30</td>\n",
              "      <td>912.95</td>\n",
              "      <td>919.80</td>\n",
              "      <td>920.40</td>\n",
              "      <td>917.93</td>\n",
              "      <td>1664.9</td>\n",
              "      <td>779.1</td>\n",
              "      <td>4872675.0</td>\n",
              "      <td>4.472796e+09</td>\n",
              "      <td>107550.0</td>\n",
              "    </tr>\n",
              "  </tbody>\n",
              "</table>\n",
              "</div>\n",
              "      <button class=\"colab-df-convert\" onclick=\"convertToInteractive('df-7fe22ec1-a359-4920-b7b1-fa4845dab3b3')\"\n",
              "              title=\"Convert this dataframe to an interactive table.\"\n",
              "              style=\"display:none;\">\n",
              "        \n",
              "  <svg xmlns=\"http://www.w3.org/2000/svg\" height=\"24px\"viewBox=\"0 0 24 24\"\n",
              "       width=\"24px\">\n",
              "    <path d=\"M0 0h24v24H0V0z\" fill=\"none\"/>\n",
              "    <path d=\"M18.56 5.44l.94 2.06.94-2.06 2.06-.94-2.06-.94-.94-2.06-.94 2.06-2.06.94zm-11 1L8.5 8.5l.94-2.06 2.06-.94-2.06-.94L8.5 2.5l-.94 2.06-2.06.94zm10 10l.94 2.06.94-2.06 2.06-.94-2.06-.94-.94-2.06-.94 2.06-2.06.94z\"/><path d=\"M17.41 7.96l-1.37-1.37c-.4-.4-.92-.59-1.43-.59-.52 0-1.04.2-1.43.59L10.3 9.45l-7.72 7.72c-.78.78-.78 2.05 0 2.83L4 21.41c.39.39.9.59 1.41.59.51 0 1.02-.2 1.41-.59l7.78-7.78 2.81-2.81c.8-.78.8-2.07 0-2.86zM5.41 20L4 18.59l7.72-7.72 1.47 1.35L5.41 20z\"/>\n",
              "  </svg>\n",
              "      </button>\n",
              "      \n",
              "  <style>\n",
              "    .colab-df-container {\n",
              "      display:flex;\n",
              "      flex-wrap:wrap;\n",
              "      gap: 12px;\n",
              "    }\n",
              "\n",
              "    .colab-df-convert {\n",
              "      background-color: #E8F0FE;\n",
              "      border: none;\n",
              "      border-radius: 50%;\n",
              "      cursor: pointer;\n",
              "      display: none;\n",
              "      fill: #1967D2;\n",
              "      height: 32px;\n",
              "      padding: 0 0 0 0;\n",
              "      width: 32px;\n",
              "    }\n",
              "\n",
              "    .colab-df-convert:hover {\n",
              "      background-color: #E2EBFA;\n",
              "      box-shadow: 0px 1px 2px rgba(60, 64, 67, 0.3), 0px 1px 3px 1px rgba(60, 64, 67, 0.15);\n",
              "      fill: #174EA6;\n",
              "    }\n",
              "\n",
              "    [theme=dark] .colab-df-convert {\n",
              "      background-color: #3B4455;\n",
              "      fill: #D2E3FC;\n",
              "    }\n",
              "\n",
              "    [theme=dark] .colab-df-convert:hover {\n",
              "      background-color: #434B5C;\n",
              "      box-shadow: 0px 1px 3px 1px rgba(0, 0, 0, 0.15);\n",
              "      filter: drop-shadow(0px 1px 2px rgba(0, 0, 0, 0.3));\n",
              "      fill: #FFFFFF;\n",
              "    }\n",
              "  </style>\n",
              "\n",
              "      <script>\n",
              "        const buttonEl =\n",
              "          document.querySelector('#df-7fe22ec1-a359-4920-b7b1-fa4845dab3b3 button.colab-df-convert');\n",
              "        buttonEl.style.display =\n",
              "          google.colab.kernel.accessAllowed ? 'block' : 'none';\n",
              "\n",
              "        async function convertToInteractive(key) {\n",
              "          const element = document.querySelector('#df-7fe22ec1-a359-4920-b7b1-fa4845dab3b3');\n",
              "          const dataTable =\n",
              "            await google.colab.kernel.invokeFunction('convertToInteractive',\n",
              "                                                     [key], {});\n",
              "          if (!dataTable) return;\n",
              "\n",
              "          const docLinkHtml = 'Like what you see? Visit the ' +\n",
              "            '<a target=\"_blank\" href=https://colab.research.google.com/notebooks/data_table.ipynb>data table notebook</a>'\n",
              "            + ' to learn more about interactive tables.';\n",
              "          element.innerHTML = '';\n",
              "          dataTable['output_type'] = 'display_data';\n",
              "          await google.colab.output.renderOutput(dataTable, element);\n",
              "          const docLink = document.createElement('div');\n",
              "          docLink.innerHTML = docLinkHtml;\n",
              "          element.appendChild(docLink);\n",
              "        }\n",
              "      </script>\n",
              "    </div>\n",
              "  </div>\n",
              "  "
            ]
          },
          "metadata": {},
          "execution_count": 21
        }
      ],
      "source": [
        "df.head()"
      ]
    },
    {
      "cell_type": "markdown",
      "metadata": {
        "id": "2bS3b5enYuVs"
      },
      "source": [
        "Now we will extract only one column, the closing value of the stock for each and every market day.\n",
        "\n",
        "the reshape function here will convert the matric form of data into a simple array. As you can see after choosing the OPEN column and reshaping the data it only has a single column with 1239 rows."
      ]
    },
    {
      "cell_type": "code",
      "execution_count": null,
      "metadata": {
        "colab": {
          "base_uri": "https://localhost:8080/"
        },
        "id": "fnWn0nR2Y1MG",
        "outputId": "432a3bae-5045-4110-800a-3e48a155058d"
      },
      "outputs": [
        {
          "output_type": "execute_result",
          "data": {
            "text/plain": [
              "(1390, 1)"
            ]
          },
          "metadata": {},
          "execution_count": 23
        }
      ],
      "source": [
        "df = df['close '].values\n",
        "df = df.reshape(-1, 1)\n",
        "df.shape"
      ]
    },
    {
      "cell_type": "markdown",
      "metadata": {
        "id": "sG1bG3ixapsF"
      },
      "source": [
        "Now we will have to devide our data into two parts, train set and validation set. 80% of the data will be used to train the model, and rest of the 20% data (ubseen by the model) will be used to validate the trained model and get the confidence level of the model."
      ]
    },
    {
      "cell_type": "code",
      "execution_count": null,
      "metadata": {
        "colab": {
          "base_uri": "https://localhost:8080/"
        },
        "id": "Pho43Sc6a7Kt",
        "outputId": "7b963171-15e4-46a4-bfc8-961980d91921"
      },
      "outputs": [
        {
          "output_type": "stream",
          "name": "stdout",
          "text": [
            "(1112, 1)\n",
            "(278, 1)\n"
          ]
        }
      ],
      "source": [
        "train_dataset = np.array(df[:int(df.shape[0]*0.8)])\n",
        "validate_dataset = np.array(df[int(df.shape[0]*0.8):])\n",
        "print(train_dataset.shape)\n",
        "print(validate_dataset.shape)"
      ]
    },
    {
      "cell_type": "markdown",
      "metadata": {
        "id": "VA0qCmA_bhve"
      },
      "source": [
        "Importing minmax scaler and model from sklearn and keras libraries."
      ]
    },
    {
      "cell_type": "code",
      "execution_count": null,
      "metadata": {
        "id": "uG3zeSvGbokD"
      },
      "outputs": [],
      "source": [
        "from sklearn.preprocessing import MinMaxScaler\n",
        "from keras.models import Sequential, load_model\n",
        "from keras.layers import LSTM, Dense, Dropout"
      ]
    },
    {
      "cell_type": "markdown",
      "metadata": {
        "id": "5TK_o19MbrPT"
      },
      "source": [
        "Most of machine learning models work best when the data is scaled down to a small range (like 0 to 1). We are here using the MinMax Scaler to scale out closing price from 0 to 1. The way it works is that it takes the minimum closing value and maps it to 0 and takes the maximum closing value and maps it to 1, and maps all the other values in between.\n",
        "As you can see below, vefore scaling the values are large. And after scaling the values are mapped between 0 and 1."
      ]
    },
    {
      "cell_type": "code",
      "execution_count": null,
      "metadata": {
        "colab": {
          "base_uri": "https://localhost:8080/"
        },
        "id": "b-IFlEwbcVus",
        "outputId": "19ed20ba-093a-4cb3-b345-cbb106bf2885"
      },
      "outputs": [
        {
          "output_type": "stream",
          "name": "stdout",
          "text": [
            "Before Scaling the data\n"
          ]
        },
        {
          "output_type": "execute_result",
          "data": {
            "text/plain": [
              "array([[921.05],\n",
              "       [924.2 ],\n",
              "       [923.75],\n",
              "       [929.8 ],\n",
              "       [920.4 ]])"
            ]
          },
          "metadata": {},
          "execution_count": 26
        }
      ],
      "source": [
        "print(\"Before Scaling the data\")\n",
        "train_dataset[:5]"
      ]
    },
    {
      "cell_type": "code",
      "execution_count": null,
      "metadata": {
        "colab": {
          "base_uri": "https://localhost:8080/"
        },
        "id": "92HaV5V3cLxO",
        "outputId": "de7681ab-ba16-4916-f5eb-2286d093f306"
      },
      "outputs": [
        {
          "output_type": "stream",
          "name": "stdout",
          "text": [
            "After scaling the data\n"
          ]
        },
        {
          "output_type": "execute_result",
          "data": {
            "text/plain": [
              "array([[0.0718368 ],\n",
              "       [0.0734514 ],\n",
              "       [0.07322074],\n",
              "       [0.07632179],\n",
              "       [0.07150363]])"
            ]
          },
          "metadata": {},
          "execution_count": 27
        }
      ],
      "source": [
        "data_scaler = MinMaxScaler(feature_range=(0,1))\n",
        "train_dataset = data_scaler.fit_transform(train_dataset)\n",
        "print('After scaling the data')\n",
        "train_dataset[:5]"
      ]
    },
    {
      "cell_type": "markdown",
      "metadata": {
        "id": "kh2ozycBiMJe"
      },
      "source": [
        "The same way we will scale the validation data also."
      ]
    },
    {
      "cell_type": "code",
      "execution_count": null,
      "metadata": {
        "colab": {
          "base_uri": "https://localhost:8080/"
        },
        "id": "zHLK2x7WiVJC",
        "outputId": "b4687a74-41b3-47a4-ef27-c7dee28dff0b"
      },
      "outputs": [
        {
          "output_type": "execute_result",
          "data": {
            "text/plain": [
              "array([[0.68128348],\n",
              "       [0.6888439 ],\n",
              "       [0.70186319],\n",
              "       [0.69102232],\n",
              "       [0.67508137]])"
            ]
          },
          "metadata": {},
          "execution_count": 28
        }
      ],
      "source": [
        "validate_dataset = data_scaler.transform(validate_dataset)\n",
        "validate_dataset[:5]"
      ]
    },
    {
      "cell_type": "markdown",
      "metadata": {
        "id": "113BveZZnD5W"
      },
      "source": [
        "We will use previous 50 days' of data for our predictions. For this we need to feed a matrix to our model wich has 50 columns (containing 50 day's data in each column). Below function will convert the closing price array to a matrix containing sets of 50 days' of closing prices."
      ]
    },
    {
      "cell_type": "code",
      "execution_count": null,
      "metadata": {
        "id": "1-fao5sUnCwV"
      },
      "outputs": [],
      "source": [
        "def create_dataset(df):\n",
        "    x = []\n",
        "    y = []\n",
        "    for i in range(50, df.shape[0]):\n",
        "        x.append(df[i-50:i, 0])\n",
        "        y.append(df[i, 0])\n",
        "    x = np.array(x)\n",
        "    y = np.array(y)\n",
        "    return x,y "
      ]
    },
    {
      "cell_type": "markdown",
      "metadata": {
        "id": "dWOCf3dysi-j"
      },
      "source": [
        "Calling the above function to create training dataset and validation data set.\n",
        "\n",
        "x_train contains the matrix with 50 days' of data in each row, y_tain contains the 51st day's data that needs to be fed to the model as part of training. Same goes for the x_validate and y_validate, but at the time of prediction we will only give x_validate and the model will predict the y data and we will compate it with y_va;idate to check the confidance level.\n",
        "<br/>\n",
        "\n",
        "---\n",
        "\n",
        "\n",
        "[0],[1],[2],[3],[4]........[49] -->   [50] <br/>\n",
        "[1],[2],[3],[4],[5]........[50] -->   [51] <br/>\n",
        ".<br/>\n",
        ".<br/>\n",
        ".<br/>\n",
        "[941],[942],[943],[944],[945]........[990] -->    [991]<br/>"
      ]
    },
    {
      "cell_type": "code",
      "execution_count": null,
      "metadata": {
        "id": "nL4VfQ-Zsn7T"
      },
      "outputs": [],
      "source": [
        "x_train, y_train = create_dataset(train_dataset)\n",
        "x_validate, y_validate = create_dataset(validate_dataset)"
      ]
    },
    {
      "cell_type": "markdown",
      "metadata": {
        "id": "NoIiM3q6u-Lq"
      },
      "source": [
        "Now we will build the model from keras library. This will be a LSTM (Long Short Term Memory) RNN (Recurrent Neural Network)."
      ]
    },
    {
      "cell_type": "code",
      "execution_count": null,
      "metadata": {
        "id": "TdQAeAtsuGvi"
      },
      "outputs": [],
      "source": [
        "model = Sequential()\n",
        "model.add(LSTM(units=96, return_sequences=True, input_shape=(x_train.shape[1], 1)))\n",
        "model.add(Dropout(0.2))\n",
        "model.add(LSTM(units=96, return_sequences=True))\n",
        "model.add(Dropout(0.2))\n",
        "model.add(LSTM(units=96, return_sequences=True))\n",
        "model.add(Dropout(0.2))\n",
        "model.add(LSTM(units=96))\n",
        "model.add(Dropout(0.2))\n",
        "model.add(Dense(units=1))"
      ]
    },
    {
      "cell_type": "markdown",
      "metadata": {
        "id": "NmMUXgcMyEuF"
      },
      "source": [
        "Our data is in form of 2D matrix. But since the Sequential model only accepts data in form of 3D matrix we will convert our data into 3D matrix, where the first Z plane will have the data and rest of the other Z planes will be empty."
      ]
    },
    {
      "cell_type": "code",
      "execution_count": null,
      "metadata": {
        "id": "LkiLvNfhw6Fa"
      },
      "outputs": [],
      "source": [
        "x_train = np.reshape(x_train, (x_train.shape[0], x_train.shape[1], 1))\n",
        "x_validate = np.reshape(x_validate, (x_validate.shape[0], x_validate.shape[1], 1))"
      ]
    },
    {
      "cell_type": "markdown",
      "metadata": {
        "id": "nkygDDXW0haF"
      },
      "source": [
        "Compile the model according to the configuration that we provided above in terms of layers."
      ]
    },
    {
      "cell_type": "code",
      "execution_count": null,
      "metadata": {
        "id": "LLanYEDRxSod"
      },
      "outputs": [],
      "source": [
        "model.compile(\n",
        "    loss='mean_squared_error',\n",
        "    optimizer='adam',\n",
        "    metrics=['accuracy'])"
      ]
    },
    {
      "cell_type": "markdown",
      "metadata": {
        "id": "e9-kbMJp1Jie"
      },
      "source": [
        "Give the prepared training data to the model and train it."
      ]
    },
    {
      "cell_type": "code",
      "execution_count": null,
      "metadata": {
        "colab": {
          "base_uri": "https://localhost:8080/"
        },
        "id": "9TOa-yvy1DSz",
        "outputId": "3b375a63-ed17-42b7-be4d-394925ed77e9"
      },
      "outputs": [
        {
          "output_type": "stream",
          "name": "stdout",
          "text": [
            "Epoch 1/50\n",
            "34/34 [==============================] - 13s 162ms/step - loss: 0.0285 - accuracy: 0.0019\n",
            "Epoch 2/50\n",
            "34/34 [==============================] - 5s 160ms/step - loss: 0.0090 - accuracy: 0.0019\n",
            "Epoch 3/50\n",
            "34/34 [==============================] - 7s 192ms/step - loss: 0.0073 - accuracy: 0.0019\n",
            "Epoch 4/50\n",
            "34/34 [==============================] - 5s 159ms/step - loss: 0.0065 - accuracy: 0.0019\n",
            "Epoch 5/50\n",
            "34/34 [==============================] - 5s 159ms/step - loss: 0.0065 - accuracy: 0.0019\n",
            "Epoch 6/50\n",
            "34/34 [==============================] - 5s 159ms/step - loss: 0.0070 - accuracy: 0.0019\n",
            "Epoch 7/50\n",
            "34/34 [==============================] - 5s 160ms/step - loss: 0.0054 - accuracy: 0.0019\n",
            "Epoch 8/50\n",
            "34/34 [==============================] - 5s 158ms/step - loss: 0.0060 - accuracy: 0.0019\n",
            "Epoch 9/50\n",
            "34/34 [==============================] - 5s 159ms/step - loss: 0.0056 - accuracy: 0.0019\n",
            "Epoch 10/50\n",
            "34/34 [==============================] - 5s 160ms/step - loss: 0.0047 - accuracy: 0.0019\n",
            "Epoch 11/50\n",
            "34/34 [==============================] - 5s 160ms/step - loss: 0.0044 - accuracy: 0.0019\n",
            "Epoch 12/50\n",
            "34/34 [==============================] - 8s 225ms/step - loss: 0.0043 - accuracy: 0.0019\n",
            "Epoch 13/50\n",
            "34/34 [==============================] - 5s 159ms/step - loss: 0.0050 - accuracy: 0.0019\n",
            "Epoch 14/50\n",
            "34/34 [==============================] - 5s 159ms/step - loss: 0.0042 - accuracy: 0.0019\n",
            "Epoch 15/50\n",
            "34/34 [==============================] - 5s 159ms/step - loss: 0.0044 - accuracy: 0.0019\n",
            "Epoch 16/50\n",
            "34/34 [==============================] - 5s 159ms/step - loss: 0.0037 - accuracy: 0.0019\n",
            "Epoch 17/50\n",
            "34/34 [==============================] - 5s 160ms/step - loss: 0.0034 - accuracy: 0.0019\n",
            "Epoch 18/50\n",
            "34/34 [==============================] - 5s 159ms/step - loss: 0.0033 - accuracy: 0.0019\n",
            "Epoch 19/50\n",
            "34/34 [==============================] - 5s 160ms/step - loss: 0.0037 - accuracy: 0.0019\n",
            "Epoch 20/50\n",
            "34/34 [==============================] - 5s 159ms/step - loss: 0.0034 - accuracy: 0.0019\n",
            "Epoch 21/50\n",
            "34/34 [==============================] - 5s 159ms/step - loss: 0.0030 - accuracy: 0.0019\n",
            "Epoch 22/50\n",
            "34/34 [==============================] - 5s 159ms/step - loss: 0.0031 - accuracy: 0.0019\n",
            "Epoch 23/50\n",
            "34/34 [==============================] - 5s 159ms/step - loss: 0.0029 - accuracy: 0.0019\n",
            "Epoch 24/50\n",
            "34/34 [==============================] - 5s 160ms/step - loss: 0.0033 - accuracy: 0.0019\n",
            "Epoch 25/50\n",
            "34/34 [==============================] - 5s 158ms/step - loss: 0.0034 - accuracy: 0.0019\n",
            "Epoch 26/50\n",
            "34/34 [==============================] - 5s 160ms/step - loss: 0.0028 - accuracy: 0.0019\n",
            "Epoch 27/50\n",
            "34/34 [==============================] - 5s 159ms/step - loss: 0.0028 - accuracy: 0.0019\n",
            "Epoch 28/50\n",
            "34/34 [==============================] - 5s 159ms/step - loss: 0.0029 - accuracy: 0.0019\n",
            "Epoch 29/50\n",
            "34/34 [==============================] - 5s 161ms/step - loss: 0.0026 - accuracy: 0.0019\n",
            "Epoch 30/50\n",
            "34/34 [==============================] - 5s 159ms/step - loss: 0.0025 - accuracy: 0.0019\n",
            "Epoch 31/50\n",
            "34/34 [==============================] - 5s 158ms/step - loss: 0.0025 - accuracy: 0.0019\n",
            "Epoch 32/50\n",
            "34/34 [==============================] - 5s 158ms/step - loss: 0.0022 - accuracy: 0.0019\n",
            "Epoch 33/50\n",
            "34/34 [==============================] - 5s 159ms/step - loss: 0.0023 - accuracy: 0.0019\n",
            "Epoch 34/50\n",
            "34/34 [==============================] - 5s 160ms/step - loss: 0.0025 - accuracy: 0.0019\n",
            "Epoch 35/50\n",
            "34/34 [==============================] - 5s 160ms/step - loss: 0.0022 - accuracy: 0.0019\n",
            "Epoch 36/50\n",
            "34/34 [==============================] - 5s 159ms/step - loss: 0.0022 - accuracy: 0.0019\n",
            "Epoch 37/50\n",
            "34/34 [==============================] - 5s 159ms/step - loss: 0.0020 - accuracy: 0.0019\n",
            "Epoch 38/50\n",
            "34/34 [==============================] - 5s 159ms/step - loss: 0.0020 - accuracy: 0.0019\n",
            "Epoch 39/50\n",
            "34/34 [==============================] - 5s 159ms/step - loss: 0.0022 - accuracy: 0.0019\n",
            "Epoch 40/50\n",
            "34/34 [==============================] - 5s 160ms/step - loss: 0.0021 - accuracy: 0.0019\n",
            "Epoch 41/50\n",
            "34/34 [==============================] - 5s 159ms/step - loss: 0.0019 - accuracy: 0.0019\n",
            "Epoch 42/50\n",
            "34/34 [==============================] - 5s 159ms/step - loss: 0.0022 - accuracy: 0.0019\n",
            "Epoch 43/50\n",
            "34/34 [==============================] - 5s 158ms/step - loss: 0.0021 - accuracy: 0.0019\n",
            "Epoch 44/50\n",
            "34/34 [==============================] - 5s 158ms/step - loss: 0.0019 - accuracy: 0.0019\n",
            "Epoch 45/50\n",
            "34/34 [==============================] - 5s 159ms/step - loss: 0.0019 - accuracy: 0.0019\n",
            "Epoch 46/50\n",
            "34/34 [==============================] - 5s 158ms/step - loss: 0.0021 - accuracy: 0.0019\n",
            "Epoch 47/50\n",
            "34/34 [==============================] - 5s 159ms/step - loss: 0.0018 - accuracy: 0.0019\n",
            "Epoch 48/50\n",
            "34/34 [==============================] - 5s 159ms/step - loss: 0.0022 - accuracy: 0.0019\n",
            "Epoch 49/50\n",
            "34/34 [==============================] - 5s 160ms/step - loss: 0.0018 - accuracy: 0.0019\n",
            "Epoch 50/50\n",
            "34/34 [==============================] - 5s 159ms/step - loss: 0.0021 - accuracy: 0.0019\n"
          ]
        }
      ],
      "source": [
        "model.fit(x_train, y_train, epochs=50, batch_size=32)\n",
        "model.save('stock_prediction.h5')"
      ]
    },
    {
      "cell_type": "markdown",
      "metadata": {
        "id": "20h2fiGR3fEB"
      },
      "source": [
        "Now we will load the model form file into an variable to use it."
      ]
    },
    {
      "cell_type": "code",
      "execution_count": null,
      "metadata": {
        "id": "DiAOE0EE3xLx"
      },
      "outputs": [],
      "source": [
        "model = load_model('stock_prediction.h5')"
      ]
    },
    {
      "cell_type": "markdown",
      "metadata": {
        "id": "HIa7qfjf30rq"
      },
      "source": [
        "Now we will give the validation data to the trained model, and compare the predicade value to the actual values."
      ]
    },
    {
      "cell_type": "code",
      "execution_count": null,
      "metadata": {
        "id": "e7lJKlRY3-RF"
      },
      "outputs": [],
      "source": [
        "predictions = model.predict(x_validate)"
      ]
    },
    {
      "cell_type": "code",
      "execution_count": null,
      "metadata": {
        "id": "RhMgmWpc_NBf"
      },
      "outputs": [],
      "source": [
        "predictions = data_scaler.inverse_transform(predictions)\n",
        "y_test_scaled = data_scaler.inverse_transform(y_validate.reshape(-1, 1))"
      ]
    },
    {
      "cell_type": "markdown",
      "metadata": {
        "id": "6ayHBcMM5aPi"
      },
      "source": [
        "Plot the predicated opening price along with actual opening price to see the difference."
      ]
    },
    {
      "cell_type": "code",
      "execution_count": null,
      "metadata": {
        "colab": {
          "base_uri": "https://localhost:8080/",
          "height": 500
        },
        "id": "HB_klIVX49jn",
        "outputId": "a064f6e1-7ba9-4d8f-a946-038f286e63ae"
      },
      "outputs": [
        {
          "output_type": "execute_result",
          "data": {
            "text/plain": [
              "<matplotlib.legend.Legend at 0x7efce7c58850>"
            ]
          },
          "metadata": {},
          "execution_count": 38
        },
        {
          "output_type": "display_data",
          "data": {
            "text/plain": [
              "<Figure size 1152x576 with 1 Axes>"
            ],
            "image/png": "[encoded data removed]"
          },
          "metadata": {
            "needs_background": "light"
          }
        }
      ],
      "source": [
        "fig, ax = plt.subplots(figsize=(16,8))\n",
        "ax.set_facecolor('#ffffff')\n",
        "ax.plot(y_test_scaled, color='red', label='Original price')\n",
        "plt.plot(predictions, color='green', label='Predicted price')\n",
        "plt.legend()"
      ]
    },
    {
      "cell_type": "code",
      "execution_count": null,
      "metadata": {
        "colab": {
          "base_uri": "https://localhost:8080/",
          "height": 206
        },
        "id": "zVvR8Q7Pgd-k",
        "outputId": "07287a5f-9dce-4ccb-c06c-4f9b038722c3"
      },
      "outputs": [
        {
          "data": {
            "text/html": [
              "\n",
              "  <div id=\"df-9890a40f-a6d6-4d39-b62e-ddf11d831d77\">\n",
              "    <div class=\"colab-df-container\">\n",
              "      <div>\n",
              "<style scoped>\n",
              "    .dataframe tbody tr th:only-of-type {\n",
              "        vertical-align: middle;\n",
              "    }\n",
              "\n",
              "    .dataframe tbody tr th {\n",
              "        vertical-align: top;\n",
              "    }\n",
              "\n",
              "    .dataframe thead th {\n",
              "        text-align: right;\n",
              "    }\n",
              "</style>\n",
              "<table border=\"1\" class=\"dataframe\">\n",
              "  <thead>\n",
              "    <tr style=\"text-align: right;\">\n",
              "      <th></th>\n",
              "      <th>Original</th>\n",
              "      <th>Predictions</th>\n",
              "    </tr>\n",
              "  </thead>\n",
              "  <tbody>\n",
              "    <tr>\n",
              "      <th>0</th>\n",
              "      <td>1146.65</td>\n",
              "      <td>1179.823853</td>\n",
              "    </tr>\n",
              "    <tr>\n",
              "      <th>1</th>\n",
              "      <td>1134.50</td>\n",
              "      <td>1159.060791</td>\n",
              "    </tr>\n",
              "    <tr>\n",
              "      <th>2</th>\n",
              "      <td>1142.50</td>\n",
              "      <td>1143.682861</td>\n",
              "    </tr>\n",
              "    <tr>\n",
              "      <th>3</th>\n",
              "      <td>1147.15</td>\n",
              "      <td>1138.965088</td>\n",
              "    </tr>\n",
              "    <tr>\n",
              "      <th>4</th>\n",
              "      <td>1136.05</td>\n",
              "      <td>1142.818481</td>\n",
              "    </tr>\n",
              "  </tbody>\n",
              "</table>\n",
              "</div>\n",
              "      <button class=\"colab-df-convert\" onclick=\"convertToInteractive('df-9890a40f-a6d6-4d39-b62e-ddf11d831d77')\"\n",
              "              title=\"Convert this dataframe to an interactive table.\"\n",
              "              style=\"display:none;\">\n",
              "        \n",
              "  <svg xmlns=\"http://www.w3.org/2000/svg\" height=\"24px\"viewBox=\"0 0 24 24\"\n",
              "       width=\"24px\">\n",
              "    <path d=\"M0 0h24v24H0V0z\" fill=\"none\"/>\n",
              "    <path d=\"M18.56 5.44l.94 2.06.94-2.06 2.06-.94-2.06-.94-.94-2.06-.94 2.06-2.06.94zm-11 1L8.5 8.5l.94-2.06 2.06-.94-2.06-.94L8.5 2.5l-.94 2.06-2.06.94zm10 10l.94 2.06.94-2.06 2.06-.94-2.06-.94-.94-2.06-.94 2.06-2.06.94z\"/><path d=\"M17.41 7.96l-1.37-1.37c-.4-.4-.92-.59-1.43-.59-.52 0-1.04.2-1.43.59L10.3 9.45l-7.72 7.72c-.78.78-.78 2.05 0 2.83L4 21.41c.39.39.9.59 1.41.59.51 0 1.02-.2 1.41-.59l7.78-7.78 2.81-2.81c.8-.78.8-2.07 0-2.86zM5.41 20L4 18.59l7.72-7.72 1.47 1.35L5.41 20z\"/>\n",
              "  </svg>\n",
              "      </button>\n",
              "      \n",
              "  <style>\n",
              "    .colab-df-container {\n",
              "      display:flex;\n",
              "      flex-wrap:wrap;\n",
              "      gap: 12px;\n",
              "    }\n",
              "\n",
              "    .colab-df-convert {\n",
              "      background-color: #E8F0FE;\n",
              "      border: none;\n",
              "      border-radius: 50%;\n",
              "      cursor: pointer;\n",
              "      display: none;\n",
              "      fill: #1967D2;\n",
              "      height: 32px;\n",
              "      padding: 0 0 0 0;\n",
              "      width: 32px;\n",
              "    }\n",
              "\n",
              "    .colab-df-convert:hover {\n",
              "      background-color: #E2EBFA;\n",
              "      box-shadow: 0px 1px 2px rgba(60, 64, 67, 0.3), 0px 1px 3px 1px rgba(60, 64, 67, 0.15);\n",
              "      fill: #174EA6;\n",
              "    }\n",
              "\n",
              "    [theme=dark] .colab-df-convert {\n",
              "      background-color: #3B4455;\n",
              "      fill: #D2E3FC;\n",
              "    }\n",
              "\n",
              "    [theme=dark] .colab-df-convert:hover {\n",
              "      background-color: #434B5C;\n",
              "      box-shadow: 0px 1px 3px 1px rgba(0, 0, 0, 0.15);\n",
              "      filter: drop-shadow(0px 1px 2px rgba(0, 0, 0, 0.3));\n",
              "      fill: #FFFFFF;\n",
              "    }\n",
              "  </style>\n",
              "\n",
              "      <script>\n",
              "        const buttonEl =\n",
              "          document.querySelector('#df-9890a40f-a6d6-4d39-b62e-ddf11d831d77 button.colab-df-convert');\n",
              "        buttonEl.style.display =\n",
              "          google.colab.kernel.accessAllowed ? 'block' : 'none';\n",
              "\n",
              "        async function convertToInteractive(key) {\n",
              "          const element = document.querySelector('#df-9890a40f-a6d6-4d39-b62e-ddf11d831d77');\n",
              "          const dataTable =\n",
              "            await google.colab.kernel.invokeFunction('convertToInteractive',\n",
              "                                                     [key], {});\n",
              "          if (!dataTable) return;\n",
              "\n",
              "          const docLinkHtml = 'Like what you see? Visit the ' +\n",
              "            '<a target=\"_blank\" href=https://colab.research.google.com/notebooks/data_table.ipynb>data table notebook</a>'\n",
              "            + ' to learn more about interactive tables.';\n",
              "          element.innerHTML = '';\n",
              "          dataTable['output_type'] = 'display_data';\n",
              "          await google.colab.output.renderOutput(dataTable, element);\n",
              "          const docLink = document.createElement('div');\n",
              "          docLink.innerHTML = docLinkHtml;\n",
              "          element.appendChild(docLink);\n",
              "        }\n",
              "      </script>\n",
              "    </div>\n",
              "  </div>\n",
              "  "
            ],
            "text/plain": [
              "   Original  Predictions\n",
              "0   1146.65  1179.823853\n",
              "1   1134.50  1159.060791\n",
              "2   1142.50  1143.682861\n",
              "3   1147.15  1138.965088\n",
              "4   1136.05  1142.818481"
            ]
          },
          "execution_count": 63,
          "metadata": {},
          "output_type": "execute_result"
        }
      ],
      "source": [
        "out_frame = pd.DataFrame(y_test_scaled, columns=['Original'])\n",
        "out_frame['Predictions'] = predictions\n",
        "out_frame.head()"
      ]
    },
    {
      "cell_type": "code",
      "execution_count": null,
      "metadata": {
        "id": "ocREoiMDiDvF"
      },
      "outputs": [],
      "source": [
        "out_frame.to_csv(\"predictions.csv\")"
      ]
    },
    {
      "cell_type": "code",
      "execution_count": null,
      "metadata": {
        "colab": {
          "base_uri": "https://localhost:8080/",
          "height": 17
        },
        "id": "C8UW1L5RiJWk",
        "outputId": "2366ff86-c48f-4bb7-f844-784458af31d3"
      },
      "outputs": [
        {
          "data": {
            "application/javascript": [
              "\n",
              "    async function download(id, filename, size) {\n",
              "      if (!google.colab.kernel.accessAllowed) {\n",
              "        return;\n",
              "      }\n",
              "      const div = document.createElement('div');\n",
              "      const label = document.createElement('label');\n",
              "      label.textContent = `Downloading \"${filename}\": `;\n",
              "      div.appendChild(label);\n",
              "      const progress = document.createElement('progress');\n",
              "      progress.max = size;\n",
              "      div.appendChild(progress);\n",
              "      document.body.appendChild(div);\n",
              "\n",
              "      const buffers = [];\n",
              "      let downloaded = 0;\n",
              "\n",
              "      const channel = await google.colab.kernel.comms.open(id);\n",
              "      // Send a message to notify the kernel that we're ready.\n",
              "      channel.send({})\n",
              "\n",
              "      for await (const message of channel.messages) {\n",
              "        // Send a message to notify the kernel that we're ready.\n",
              "        channel.send({})\n",
              "        if (message.buffers) {\n",
              "          for (const buffer of message.buffers) {\n",
              "            buffers.push(buffer);\n",
              "            downloaded += buffer.byteLength;\n",
              "            progress.value = downloaded;\n",
              "          }\n",
              "        }\n",
              "      }\n",
              "      const blob = new Blob(buffers, {type: 'application/binary'});\n",
              "      const a = document.createElement('a');\n",
              "      a.href = window.URL.createObjectURL(blob);\n",
              "      a.download = filename;\n",
              "      div.appendChild(a);\n",
              "      a.click();\n",
              "      div.remove();\n",
              "    }\n",
              "  "
            ],
            "text/plain": [
              "<IPython.core.display.Javascript object>"
            ]
          },
          "metadata": {},
          "output_type": "display_data"
        },
        {
          "data": {
            "application/javascript": [
              "download(\"download_849e204e-b62e-4218-90ff-63f6717f6a13\", \"predictions.csv\", 4671)"
            ],
            "text/plain": [
              "<IPython.core.display.Javascript object>"
            ]
          },
          "metadata": {},
          "output_type": "display_data"
        }
      ],
      "source": [
        "files.download('predictions.csv')"
      ]
    },
    {
      "cell_type": "code",
      "execution_count": null,
      "metadata": {
        "id": "Tda82r_r9OGa"
      },
      "outputs": [],
      "source": [
        "new_test = np.array([[1465.00,1445.00,1464.85,1418.00,1409.00,1398.80,1403.00,1391.80,1391.25,1388.05,1382.20,1382.00,1359.15,1355.00,1340.00,1320.00,1331.40,1330.40,1344.00,1340.00,1320.45,1334.00,1328.10,1331.00,1290.10,1286.90,1345.00,1319.35,1299.00,1300.00,1290.00,1327.00,1337.00,1315.00,1334.00,1435.00,1449.00,1425.00,1448.25,1410.00,1410.00,1392.00,1400.00,1458.00,1486.00,1472.00,1470.00,1490.00,1456.00,1475.00]])"
      ]
    },
    {
      "cell_type": "markdown",
      "metadata": {
        "id": "HP3PzsUlHHyC"
      },
      "source": [
        "Stock prices from 16-May-2022 to 21-Jul-2022"
      ]
    },
    {
      "cell_type": "code",
      "execution_count": null,
      "metadata": {
        "id": "yR0mtrEQFmR3"
      },
      "outputs": [],
      "source": [
        "new_actual = np.array([[1465.00]])"
      ]
    },
    {
      "cell_type": "code",
      "execution_count": null,
      "metadata": {
        "colab": {
          "base_uri": "https://localhost:8080/"
        },
        "id": "Znq-73lzEt9G",
        "outputId": "eba0769a-cffb-40cf-c91f-fabb057d456d"
      },
      "outputs": [
        {
          "data": {
            "text/plain": [
              "array([[1465.  , 1445.  , 1464.85, 1418.  , 1409.  , 1398.8 , 1403.  ,\n",
              "        1391.8 , 1391.25, 1388.05, 1382.2 , 1382.  , 1359.15, 1355.  ,\n",
              "        1340.  , 1320.  , 1331.4 , 1330.4 , 1344.  , 1340.  , 1320.45,\n",
              "        1334.  , 1328.1 , 1331.  , 1290.1 , 1286.9 , 1345.  , 1319.35,\n",
              "        1299.  , 1300.  , 1290.  , 1327.  , 1337.  , 1315.  , 1334.  ,\n",
              "        1435.  , 1449.  , 1425.  , 1448.25, 1410.  , 1410.  , 1392.  ,\n",
              "        1400.  , 1458.  , 1486.  , 1472.  , 1470.  , 1490.  , 1456.  ,\n",
              "        1475.  ]])"
            ]
          },
          "execution_count": 71,
          "metadata": {},
          "output_type": "execute_result"
        }
      ],
      "source": [
        "new_test"
      ]
    },
    {
      "cell_type": "code",
      "execution_count": null,
      "metadata": {
        "id": "ZY7ciEEj9Zat"
      },
      "outputs": [],
      "source": [
        "new_data_scaler = MinMaxScaler(feature_range=(0,1))\n",
        "new_scaled_data = new_data_scaler.fit_transform(new_test)\n",
        "new_scaled_actual = new_data_scaler.fit_transform(new_actual)"
      ]
    },
    {
      "cell_type": "markdown",
      "metadata": {
        "id": "WfnMP2xJHOBI"
      },
      "source": [
        "Now we will give these 50 days' prices to model and it will predict the opening price for 22-Jul-2022"
      ]
    },
    {
      "cell_type": "code",
      "execution_count": null,
      "metadata": {
        "id": "ZV6yaw0S9Ps6"
      },
      "outputs": [],
      "source": [
        "new_pred = model.predict(new_scaled_data)"
      ]
    },
    {
      "cell_type": "code",
      "execution_count": null,
      "metadata": {
        "colab": {
          "base_uri": "https://localhost:8080/"
        },
        "id": "JBAlCwP1-bnr",
        "outputId": "8505b85f-ac18-41a5-d111-e495c04d514f"
      },
      "outputs": [
        {
          "data": {
            "text/plain": [
              "array([[0.00311986]], dtype=float32)"
            ]
          },
          "execution_count": 74,
          "metadata": {},
          "output_type": "execute_result"
        }
      ],
      "source": [
        "new_pred"
      ]
    },
    {
      "cell_type": "code",
      "execution_count": null,
      "metadata": {
        "id": "yYZOq2QA-NlV"
      },
      "outputs": [],
      "source": [
        "new_pred =  new_data_scaler.inverse_transform(new_pred)"
      ]
    },
    {
      "cell_type": "code",
      "execution_count": null,
      "metadata": {
        "colab": {
          "base_uri": "https://localhost:8080/"
        },
        "id": "DmcPTtgmGK8s",
        "outputId": "fc3c2f40-14da-4bf4-a9be-daa5b866dbfb"
      },
      "outputs": [
        {
          "data": {
            "text/plain": [
              "array([[1465.0032]], dtype=float32)"
            ]
          },
          "execution_count": 76,
          "metadata": {},
          "output_type": "execute_result"
        }
      ],
      "source": [
        "new_pred"
      ]
    },
    {
      "cell_type": "markdown",
      "metadata": {
        "id": "YdkAKj1QHWQX"
      },
      "source": [
        "Price predicted by the model is 1465.0026\n",
        "Actual open price of the GRASIM stock was 1465.00"
      ]
    }
  ],
  "metadata": {
    "colab": {
      "provenance": []
    },
    "kernelspec": {
      "display_name": "Python 3",
      "name": "python3"
    },
    "language_info": {
      "name": "python"
    }
  },
  "nbformat": 4,
  "nbformat_minor": 0
}